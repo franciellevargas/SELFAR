{
  "nbformat": 4,
  "nbformat_minor": 0,
  "metadata": {
    "colab": {
      "provenance": []
    },
    "kernelspec": {
      "name": "python3",
      "display_name": "Python 3"
    },
    "language_info": {
      "name": "python"
    }
  },
  "cells": [
    {
      "cell_type": "code",
      "source": [
        "!pip install nltk textstat unidecode"
      ],
      "metadata": {
        "colab": {
          "base_uri": "https://localhost:8080/"
        },
        "id": "zLn5_UhvurS-",
        "outputId": "21bad8f2-7aab-4bea-9a31-f8367718a8a8"
      },
      "execution_count": 4,
      "outputs": [
        {
          "output_type": "stream",
          "name": "stdout",
          "text": [
            "Requirement already satisfied: nltk in /usr/local/lib/python3.10/dist-packages (3.8.1)\n",
            "Requirement already satisfied: textstat in /usr/local/lib/python3.10/dist-packages (0.7.4)\n",
            "Collecting unidecode\n",
            "  Downloading Unidecode-1.3.8-py3-none-any.whl.metadata (13 kB)\n",
            "Requirement already satisfied: click in /usr/local/lib/python3.10/dist-packages (from nltk) (8.1.7)\n",
            "Requirement already satisfied: joblib in /usr/local/lib/python3.10/dist-packages (from nltk) (1.4.2)\n",
            "Requirement already satisfied: regex>=2021.8.3 in /usr/local/lib/python3.10/dist-packages (from nltk) (2024.5.15)\n",
            "Requirement already satisfied: tqdm in /usr/local/lib/python3.10/dist-packages (from nltk) (4.66.5)\n",
            "Requirement already satisfied: pyphen in /usr/local/lib/python3.10/dist-packages (from textstat) (0.16.0)\n",
            "Requirement already satisfied: setuptools in /usr/local/lib/python3.10/dist-packages (from textstat) (71.0.4)\n",
            "Downloading Unidecode-1.3.8-py3-none-any.whl (235 kB)\n",
            "\u001b[2K   \u001b[90m━━━━━━━━━━━━━━━━━━━━━━━━━━━━━━━━━━━━━━━━\u001b[0m \u001b[32m235.5/235.5 kB\u001b[0m \u001b[31m4.1 MB/s\u001b[0m eta \u001b[36m0:00:00\u001b[0m\n",
            "\u001b[?25hInstalling collected packages: unidecode\n",
            "Successfully installed unidecode-1.3.8\n"
          ]
        }
      ]
    },
    {
      "cell_type": "code",
      "source": [
        "import nltk\n",
        "import textstat\n",
        "from unidecode import unidecode\n",
        "\n",
        "nltk.download('punkt')\n",
        "\n",
        "def contar_palavras(texto):\n",
        "    \"\"\"Conta o número de palavras no texto.\"\"\"\n",
        "    palavras = nltk.word_tokenize(texto)\n",
        "    return len(palavras)\n",
        "\n",
        "def contar_frases(texto):\n",
        "    \"\"\"Conta o número de frases no texto.\"\"\"\n",
        "    frases = nltk.sent_tokenize(texto)\n",
        "    return len(frases)\n",
        "\n",
        "def contar_silabas(palavra):\n",
        "    \"\"\"Conta o número de sílabas em uma palavra.\"\"\"\n",
        "    return textstat.syllable_count(palavra)\n",
        "\n",
        "def contar_silabas_total(texto):\n",
        "    \"\"\"Conta o número total de sílabas no texto.\"\"\"\n",
        "    palavras = nltk.word_tokenize(texto)\n",
        "    total_silabas = sum(contar_silabas(palavra) for palavra in palavras)\n",
        "    return total_silabas\n",
        "\n",
        "def flesch_portugues(texto):\n",
        "    \"\"\"Calcula o índice de Flesch adaptado para o português.\"\"\"\n",
        "    total_palavras = contar_palavras(texto)\n",
        "    total_frases = contar_frases(texto)\n",
        "    total_silabas = contar_silabas_total(texto)\n",
        "\n",
        "    if total_frases == 0 or total_palavras == 0:\n",
        "        return None\n",
        "\n",
        "    frase_media = total_palavras / total_frases\n",
        "    silabas_por_palavra = total_silabas / total_palavras\n",
        "\n",
        "    indice_flesch = 248.835 - (1.015 * frase_media) - (84.6 * silabas_por_palavra)\n",
        "\n",
        "    return round(indice_flesch, 2)\n",
        "\n",
        "def szigriszt_pazos(texto):\n",
        "    \"\"\"Calcula o índice de Szigriszt Pazos para o português.\"\"\"\n",
        "    total_palavras = contar_palavras(texto)\n",
        "    total_frases = contar_frases(texto)\n",
        "    total_silabas = contar_silabas_total(texto)\n",
        "\n",
        "    if total_frases == 0 or total_palavras == 0:\n",
        "        return None\n",
        "\n",
        "    frase_media = total_palavras / total_frases\n",
        "    porcentagem_monossilabas = (sum(1 for palavra in nltk.word_tokenize(texto) if contar_silabas(palavra) == 1) / total_palavras) * 100\n",
        "\n",
        "    indice_szigriszt = 206.835 - (62.3 * frase_media) - porcentagem_monossilabas\n",
        "\n",
        "    return round(indice_szigriszt, 2)\n",
        "\n",
        "# Texto exemplo em português\n",
        "texto = \"\"\"\n",
        "A educação é a base de uma sociedade forte. O investimento em conhecimento tem o poder de transformar vidas e proporcionar oportunidades. O futuro do Brasil depende de políticas públicas que priorizem o ensino de qualidade.\n",
        "\"\"\"\n",
        "\n",
        "# Removendo acentos para melhorar o processamento\n",
        "texto_limpo = unidecode(texto)\n",
        "\n",
        "# Calculando os índices de legibilidade\n",
        "indice_flesch = flesch_portugues(texto_limpo)\n",
        "indice_szigriszt = szigriszt_pazos(texto_limpo)\n",
        "\n",
        "print(f\"Índice de Flesch (Português): {indice_flesch}\")\n",
        "print(f\"Índice de Szigriszt Pazos: {indice_szigriszt}\")\n"
      ],
      "metadata": {
        "colab": {
          "base_uri": "https://localhost:8080/"
        },
        "id": "yBtX6ygDu36B",
        "outputId": "9e167b81-d78f-4f86-f318-580c64631c10"
      },
      "execution_count": 5,
      "outputs": [
        {
          "output_type": "stream",
          "name": "stderr",
          "text": [
            "[nltk_data] Downloading package punkt to /root/nltk_data...\n",
            "[nltk_data]   Unzipping tokenizers/punkt.zip.\n"
          ]
        },
        {
          "output_type": "stream",
          "name": "stdout",
          "text": [
            "Índice de Flesch (Português): 88.13\n",
            "Índice de Szigriszt Pazos: -656.91\n"
          ]
        }
      ]
    }
  ]
}