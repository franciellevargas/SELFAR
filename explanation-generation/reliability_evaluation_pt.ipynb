{
  "nbformat": 4,
  "nbformat_minor": 0,
  "metadata": {
    "colab": {
      "provenance": []
    },
    "kernelspec": {
      "name": "python3",
      "display_name": "Python 3"
    },
    "language_info": {
      "name": "python"
    }
  },
  "cells": [
    {
      "cell_type": "code",
      "source": [
        "!pip install nltk textstat unidecode"
      ],
      "metadata": {
        "colab": {
          "base_uri": "https://localhost:8080/"
        },
        "id": "zLn5_UhvurS-",
        "outputId": "21bad8f2-7aab-4bea-9a31-f8367718a8a8"
      },
      "execution_count": 4,
      "outputs": [
        {
          "output_type": "stream",
          "name": "stdout",
          "text": [
            "Requirement already satisfied: nltk in /usr/local/lib/python3.10/dist-packages (3.8.1)\n",
            "Requirement already satisfied: textstat in /usr/local/lib/python3.10/dist-packages (0.7.4)\n",
            "Collecting unidecode\n",
            "  Downloading Unidecode-1.3.8-py3-none-any.whl.metadata (13 kB)\n",
            "Requirement already satisfied: click in /usr/local/lib/python3.10/dist-packages (from nltk) (8.1.7)\n",
            "Requirement already satisfied: joblib in /usr/local/lib/python3.10/dist-packages (from nltk) (1.4.2)\n",
            "Requirement already satisfied: regex>=2021.8.3 in /usr/local/lib/python3.10/dist-packages (from nltk) (2024.5.15)\n",
            "Requirement already satisfied: tqdm in /usr/local/lib/python3.10/dist-packages (from nltk) (4.66.5)\n",
            "Requirement already satisfied: pyphen in /usr/local/lib/python3.10/dist-packages (from textstat) (0.16.0)\n",
            "Requirement already satisfied: setuptools in /usr/local/lib/python3.10/dist-packages (from textstat) (71.0.4)\n",
            "Downloading Unidecode-1.3.8-py3-none-any.whl (235 kB)\n",
            "\u001b[2K   \u001b[90m━━━━━━━━━━━━━━━━━━━━━━━━━━━━━━━━━━━━━━━━\u001b[0m \u001b[32m235.5/235.5 kB\u001b[0m \u001b[31m4.1 MB/s\u001b[0m eta \u001b[36m0:00:00\u001b[0m\n",
            "\u001b[?25hInstalling collected packages: unidecode\n",
            "Successfully installed unidecode-1.3.8\n"
          ]
        }
      ]
    },
    {
      "cell_type": "code",
      "source": [
        "!pip install pandas"
      ],
      "metadata": {
        "colab": {
          "base_uri": "https://localhost:8080/"
        },
        "id": "SbQrlik4I1R6",
        "outputId": "42fa626e-7960-4499-c726-51a2b1a301df"
      },
      "execution_count": 6,
      "outputs": [
        {
          "output_type": "stream",
          "name": "stdout",
          "text": [
            "Requirement already satisfied: pandas in /usr/local/lib/python3.10/dist-packages (2.1.4)\n",
            "Requirement already satisfied: numpy<2,>=1.22.4 in /usr/local/lib/python3.10/dist-packages (from pandas) (1.26.4)\n",
            "Requirement already satisfied: python-dateutil>=2.8.2 in /usr/local/lib/python3.10/dist-packages (from pandas) (2.8.2)\n",
            "Requirement already satisfied: pytz>=2020.1 in /usr/local/lib/python3.10/dist-packages (from pandas) (2024.1)\n",
            "Requirement already satisfied: tzdata>=2022.1 in /usr/local/lib/python3.10/dist-packages (from pandas) (2024.1)\n",
            "Requirement already satisfied: six>=1.5 in /usr/local/lib/python3.10/dist-packages (from python-dateutil>=2.8.2->pandas) (1.16.0)\n"
          ]
        }
      ]
    },
    {
      "cell_type": "code",
      "source": [
        "import nltk\n",
        "import textstat\n",
        "from unidecode import unidecode\n",
        "\n",
        "nltk.download('punkt')\n",
        "\n",
        "def contar_palavras(texto):\n",
        "    \"\"\"Conta o número de palavras no texto.\"\"\"\n",
        "    palavras = nltk.word_tokenize(texto)\n",
        "    return len(palavras)\n",
        "\n",
        "def contar_frases(texto):\n",
        "    \"\"\"Conta o número de frases no texto.\"\"\"\n",
        "    frases = nltk.sent_tokenize(texto)\n",
        "    return len(frases)\n",
        "\n",
        "def contar_silabas(palavra):\n",
        "    \"\"\"Conta o número de sílabas em uma palavra.\"\"\"\n",
        "    return textstat.syllable_count(palavra)\n",
        "\n",
        "def contar_silabas_total(texto):\n",
        "    \"\"\"Conta o número total de sílabas no texto.\"\"\"\n",
        "    palavras = nltk.word_tokenize(texto)\n",
        "    total_silabas = sum(contar_silabas(palavra) for palavra in palavras)\n",
        "    return total_silabas\n",
        "\n",
        "def flesch_portugues(texto):\n",
        "    \"\"\"Calcula o índice de Flesch adaptado para o português.\"\"\"\n",
        "    total_palavras = contar_palavras(texto)\n",
        "    total_frases = contar_frases(texto)\n",
        "    total_silabas = contar_silabas_total(texto)\n",
        "\n",
        "    if total_frases == 0 or total_palavras == 0:\n",
        "        return None\n",
        "\n",
        "    frase_media = total_palavras / total_frases\n",
        "    silabas_por_palavra = total_silabas / total_palavras\n",
        "\n",
        "    indice_flesch = 248.835 - (1.015 * frase_media) - (84.6 * silabas_por_palavra)\n",
        "\n",
        "    return round(indice_flesch, 2)\n",
        "\n",
        "def szigriszt_pazos(texto):\n",
        "    \"\"\"Calcula o índice de Szigriszt Pazos para o português.\"\"\"\n",
        "    total_palavras = contar_palavras(texto)\n",
        "    total_frases = contar_frases(texto)\n",
        "    total_silabas = contar_silabas_total(texto)\n",
        "\n",
        "    if total_frases == 0 or total_palavras == 0:\n",
        "        return None\n",
        "\n",
        "    frase_media = total_palavras / total_frases\n",
        "    porcentagem_monossilabas = (sum(1 for palavra in nltk.word_tokenize(texto) if contar_silabas(palavra) == 1) / total_palavras) * 100\n",
        "\n",
        "    indice_szigriszt = 206.835 - (62.3 * frase_media) - porcentagem_monossilabas\n",
        "\n",
        "    return round(indice_szigriszt, 2)\n",
        "\n"
      ],
      "metadata": {
        "colab": {
          "base_uri": "https://localhost:8080/"
        },
        "id": "yBtX6ygDu36B",
        "outputId": "9e167b81-d78f-4f86-f318-580c64631c10"
      },
      "execution_count": 5,
      "outputs": [
        {
          "output_type": "stream",
          "name": "stderr",
          "text": [
            "[nltk_data] Downloading package punkt to /root/nltk_data...\n",
            "[nltk_data]   Unzipping tokenizers/punkt.zip.\n"
          ]
        },
        {
          "output_type": "stream",
          "name": "stdout",
          "text": [
            "Índice de Flesch (Português): 88.13\n",
            "Índice de Szigriszt Pazos: -656.91\n"
          ]
        }
      ]
    },
    {
      "cell_type": "code",
      "source": [
        "import pandas as pd\n",
        "import numpy as np\n",
        "\n",
        "\n",
        "# Caminho para o arquivo CSV\n",
        "caminho_arquivo_csv = '/content/sample_data/explanations_fv.csv'\n",
        "\n",
        "# Ler o arquivo CSV em um DataFrame\n",
        "df_data = pd.read_csv(caminho_arquivo_csv)\n",
        "\n",
        "\n",
        "df_classe_fake = df_data[df_data['class'] == 1]\n",
        "\n",
        "# Exibir as primeiras linhas do DataFrame\n",
        "print(df_classe_fake.head())"
      ],
      "metadata": {
        "colab": {
          "base_uri": "https://localhost:8080/"
        },
        "id": "VZEzZ5chI0k-",
        "outputId": "42be2ef6-55c7-42ef-8548-8c6dff6cc94b"
      },
      "execution_count": 33,
      "outputs": [
        {
          "output_type": "stream",
          "name": "stdout",
          "text": [
            "                                         explanation  class\n",
            "0  Sim, é mentira que caças russos tenham sobrevo...      1\n",
            "1  Sim, é uma mentira que pessoas com condições c...      1\n",
            "2  Até o momento, não há informações oficiais con...      1\n",
            "3  Essa afirmação parece misturar informações fal...      1\n",
            "4  Sim, é mentira que a ministra Damares Alves, e...      1\n"
          ]
        }
      ]
    },
    {
      "cell_type": "code",
      "source": [
        "import pandas as pd\n",
        "import numpy as np\n",
        "\n",
        "\n",
        "# Caminho para o arquivo CSV\n",
        "caminho_arquivo_csv = '/content/sample_data/explanations_fv.csv'\n",
        "\n",
        "# Ler o arquivo CSV em um DataFrame\n",
        "df_data = pd.read_csv(caminho_arquivo_csv)\n",
        "\n",
        "\n",
        "df_classe_true = df_data[df_data['class'] == 0]\n",
        "\n",
        "# Exibir as primeiras linhas do DataFrame\n",
        "print(df_classe_true.head())"
      ],
      "metadata": {
        "colab": {
          "base_uri": "https://localhost:8080/"
        },
        "id": "_nF5f6aiNUY5",
        "outputId": "22819feb-63a4-49d2-804d-c10a506f39a4"
      },
      "execution_count": 30,
      "outputs": [
        {
          "output_type": "stream",
          "name": "stdout",
          "text": [
            "                                           explanation  class\n",
            "154  Sim, é verdade que, em média, as mulheres bras...      0\n",
            "155  Sim, é verdade que a violência é uma das princ...      0\n",
            "156  Sim, é verdade que o Brasil investe uma quanti...      0\n",
            "157  Sim, é verdade que em muitas democracias ao re...      0\n",
            "158  Sim, é verdade que a produção de gás natural n...      0\n"
          ]
        }
      ]
    },
    {
      "cell_type": "code",
      "source": [
        "#Readbility para a classe 0 (true)\n",
        "final_indice_flesch = []\n",
        "final_indice_szigriszt = []\n",
        "for i in df_classe_true['explanation']:\n",
        "  texto_limpo = unidecode(i)\n",
        "\n",
        "  # Calculando os índices de legibilidade flesch\n",
        "  indice_flesch = flesch_portugues(texto_limpo)\n",
        "  final_indice_flesch.append(indice_flesch)\n",
        "\n",
        "  # Calculando os índices de legibilidade szigriszt\n",
        "  indice_szigriszt = szigriszt_pazos(texto_limpo)\n",
        "  final_indice_szigriszt.append(indice_szigriszt)\n",
        "\n",
        "media_valores_flesch = np.mean(final_indice_flesch)\n",
        "media_valores_szigriszt = np.mean(final_indice_szigriszt)\n",
        "\n",
        "print(f\"Indice Flesch': {media_valores_flesch}\")\n",
        "print(f\"Índice de Szigriszt Pazos: {media_valores_szigriszt}\")\n"
      ],
      "metadata": {
        "colab": {
          "base_uri": "https://localhost:8080/"
        },
        "id": "EniyU0dvJR9-",
        "outputId": "43f74cc2-0297-423f-a29c-1a3ef9100887"
      },
      "execution_count": 31,
      "outputs": [
        {
          "output_type": "stream",
          "name": "stdout",
          "text": [
            "Indice Flesch': 85.2461956521739\n",
            "Índice de Szigriszt Pazos: -1393.229239130435\n"
          ]
        }
      ]
    },
    {
      "cell_type": "code",
      "source": [
        "#Readbility para a classe 1 (fake)\n",
        "final_indice_flesch = []\n",
        "final_indice_szigriszt = []\n",
        "for i in df_classe_fake['explanation']:\n",
        "  texto_limpo = unidecode(i)\n",
        "\n",
        "  # Calculando os índices de legibilidade flesch\n",
        "  indice_flesch = flesch_portugues(texto_limpo)\n",
        "  final_indice_flesch.append(indice_flesch)\n",
        "\n",
        "  # Calculando os índices de legibilidade szigriszt\n",
        "  indice_szigriszt = szigriszt_pazos(texto_limpo)\n",
        "  final_indice_szigriszt.append(indice_szigriszt)\n",
        "\n",
        "media_valores_flesch = np.mean(final_indice_flesch)\n",
        "media_valores_szigriszt = np.mean(final_indice_szigriszt)\n",
        "\n",
        "print(f\"Indice Flesch': {media_valores_flesch}\")\n",
        "print(f\"Índice de Szigriszt Pazos: {media_valores_szigriszt}\")"
      ],
      "metadata": {
        "colab": {
          "base_uri": "https://localhost:8080/"
        },
        "id": "CUTkBecJNnkJ",
        "outputId": "aeff78b7-8125-4bbb-8409-58ff57f800c1"
      },
      "execution_count": 34,
      "outputs": [
        {
          "output_type": "stream",
          "name": "stdout",
          "text": [
            "Indice Flesch': 84.99324675324677\n",
            "Índice de Szigriszt Pazos: -1396.8608441558442\n"
          ]
        }
      ]
    },
    {
      "cell_type": "code",
      "source": [
        "\n",
        "# Texto exemplo em português\n",
        "texto = \"\"\"\n",
        "A educação é a base de uma sociedade forte. O investimento em conhecimento tem o poder de transformar vidas e proporcionar oportunidades. O futuro do Brasil depende de políticas públicas que priorizem o ensino de qualidade.\n",
        "\"\"\"\n",
        "\n",
        "\n",
        "# Removendo acentos para melhorar o processamento\n",
        "texto_limpo = unidecode(texto)\n",
        "\n",
        "# Calculando os índices de legibilidade\n",
        "indice_flesch = flesch_portugues(texto_limpo)\n",
        "indice_szigriszt = szigriszt_pazos(texto_limpo)\n",
        "\n",
        "print(f\"Índice de Flesch (Português): {indice_flesch}\")\n",
        "print(f\"Índice de Szigriszt Pazos: {indice_szigriszt}\")"
      ],
      "metadata": {
        "colab": {
          "base_uri": "https://localhost:8080/"
        },
        "id": "StWLyNUuJKkc",
        "outputId": "2332c807-3185-49ff-a62e-2f50f670a93d"
      },
      "execution_count": 29,
      "outputs": [
        {
          "output_type": "stream",
          "name": "stdout",
          "text": [
            "Índice de Flesch (Português): 88.13\n",
            "Índice de Szigriszt Pazos: -656.91\n"
          ]
        }
      ]
    }
  ]
}