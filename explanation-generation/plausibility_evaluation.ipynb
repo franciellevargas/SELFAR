{
 "cells": [
  {
   "cell_type": "code",
   "execution_count": 1,
   "metadata": {},
   "outputs": [],
   "source": [
    "import pandas as pd\n",
    "import numpy as np"
   ]
  },
  {
   "cell_type": "code",
   "execution_count": 2,
   "metadata": {},
   "outputs": [],
   "source": [
    "def read_files(file, method, class_):\n",
    "    with open(file, 'r') as f:\n",
    "        lines = f.readlines()\n",
    "        for l in lines:\n",
    "            if l != \"\\n\":\n",
    "                data =  list(eval(l))\n",
    "                data.sort(key=lambda tup: tup[1], reverse=True)\n",
    "                pred[method].append([i[0].replace(' ', '') for i in data if i[1] > 0])"
   ]
  },
  {
   "cell_type": "code",
   "execution_count": 3,
   "metadata": {},
   "outputs": [],
   "source": [
    "df = pd.read_csv('instances_with_human_rationales/class_1_instances.csv')"
   ]
  },
  {
   "cell_type": "code",
   "execution_count": 4,
   "metadata": {},
   "outputs": [],
   "source": [
    "pred = {}\n",
    "\n",
    "for method in ['lime', 'shap']:\n",
    "    pred[method] = []\n",
    "    read_files('explanations_SHAP&LIME/results-class-1-'+method+'.txt', method, 1)"
   ]
  },
  {
   "cell_type": "code",
   "execution_count": 5,
   "metadata": {},
   "outputs": [],
   "source": [
    "truth = []\n",
    "\n",
    "for line in df['Rationales']:\n",
    "    l = line.split(' ')\n",
    "    for i, e in enumerate(l):\n",
    "        l[i] = e.replace(';', '').replace(',', '')\n",
    "    truth.append(l)"
   ]
  },
  {
   "cell_type": "code",
   "execution_count": 6,
   "metadata": {},
   "outputs": [],
   "source": [
    "def partial_match_score(pred, truth, method,threshold=0.5):\n",
    "    ious = []\n",
    "    \n",
    "    for a, b in zip(pred[method], truth):\n",
    "        \n",
    "        intersection= list(set(a) & set(b))\n",
    "        union = list(set().union(a, b))\n",
    "        ious.append(len(intersection)/len(union))\n",
    "\n",
    "  \n",
    "    threshold_tps = sum(int(x >= threshold) for x in ious)\n",
    "    \n",
    "    precision = threshold_tps/len(pred[method])\n",
    "    recall = threshold_tps/len(truth)\n",
    "    f1_score = (2*((recall*precision)/(recall+precision)))\n",
    "    \n",
    "    return f1_score"
   ]
  },
  {
   "cell_type": "code",
   "execution_count": 7,
   "metadata": {},
   "outputs": [],
   "source": [
    "def score_hard_rationale_predictions(pred, truth, method):\n",
    "    f1_score = []\n",
    "    recs = []\n",
    "    precs = []\n",
    "    for a, b in zip(pred[method], truth):\n",
    "        \n",
    "        precision = len(list(set(a) & set(b)))/len(a) if len(a) > 0 else 0\n",
    "        precs.append(precision)\n",
    "        recall = len(list(set(a) & set(b)))/len(b) if len(b) > 0 else 0\n",
    "        recs.append(recall)\n",
    "        \n",
    "        if recall+precision == 0:\n",
    "            f1_score.append(0)\n",
    "        else:\n",
    "            f1_score.append(2*((recall*precision)/(recall+precision)))\n",
    "    \n",
    "           \n",
    "    return np.mean(f1_score), np.mean(precs), np.mean(recs)"
   ]
  },
  {
   "cell_type": "code",
   "execution_count": 8,
   "metadata": {},
   "outputs": [],
   "source": [
    "results = {}\n",
    "results['Method'] = ['Lime', 'SHAP']\n",
    "results['IOU_F1'] = []\n",
    "results['IOU_F1'].append(partial_match_score(pred, truth, 'lime'))\n",
    "results['IOU_F1'].append(partial_match_score(pred, truth, 'shap'))\n",
    "\n",
    "results['Token-level Precision'] = []\n",
    "results['Token-level Recall'] = []\n",
    "results['Token-level F1'] = []\n",
    "\n",
    "f1, prec, rec = score_hard_rationale_predictions(pred, truth, 'lime')\n",
    "results['Token-level Precision'].append(prec)\n",
    "results['Token-level Recall'].append(rec)\n",
    "results['Token-level F1'].append(f1)\n",
    "f1, prec, rec = score_hard_rationale_predictions(pred, truth, 'shap')\n",
    "results['Token-level Precision'].append(prec)\n",
    "results['Token-level Recall'].append(rec)\n",
    "results['Token-level F1'].append(f1)"
   ]
  },
  {
   "cell_type": "code",
   "execution_count": 9,
   "metadata": {},
   "outputs": [
    {
     "data": {
      "text/html": [
       "<div>\n",
       "<style scoped>\n",
       "    .dataframe tbody tr th:only-of-type {\n",
       "        vertical-align: middle;\n",
       "    }\n",
       "\n",
       "    .dataframe tbody tr th {\n",
       "        vertical-align: top;\n",
       "    }\n",
       "\n",
       "    .dataframe thead th {\n",
       "        text-align: right;\n",
       "    }\n",
       "</style>\n",
       "<table border=\"1\" class=\"dataframe\">\n",
       "  <thead>\n",
       "    <tr style=\"text-align: right;\">\n",
       "      <th></th>\n",
       "      <th>Method</th>\n",
       "      <th>IOU_F1</th>\n",
       "      <th>Token-level Precision</th>\n",
       "      <th>Token-level Recall</th>\n",
       "      <th>Token-level F1</th>\n",
       "    </tr>\n",
       "  </thead>\n",
       "  <tbody>\n",
       "    <tr>\n",
       "      <th>0</th>\n",
       "      <td>Lime</td>\n",
       "      <td>0.109804</td>\n",
       "      <td>0.437860</td>\n",
       "      <td>0.391349</td>\n",
       "      <td>0.369832</td>\n",
       "    </tr>\n",
       "    <tr>\n",
       "      <th>1</th>\n",
       "      <td>SHAP</td>\n",
       "      <td>0.152941</td>\n",
       "      <td>0.431247</td>\n",
       "      <td>0.511141</td>\n",
       "      <td>0.428473</td>\n",
       "    </tr>\n",
       "  </tbody>\n",
       "</table>\n",
       "</div>"
      ],
      "text/plain": [
       "  Method    IOU_F1  Token-level Precision  Token-level Recall  Token-level F1\n",
       "0   Lime  0.109804               0.437860            0.391349        0.369832\n",
       "1   SHAP  0.152941               0.431247            0.511141        0.428473"
      ]
     },
     "execution_count": 9,
     "metadata": {},
     "output_type": "execute_result"
    }
   ],
   "source": [
    "pd.DataFrame(results)"
   ]
  },
  {
   "cell_type": "code",
   "execution_count": null,
   "metadata": {},
   "outputs": [],
   "source": []
  }
 ],
 "metadata": {
  "kernelspec": {
   "display_name": "Python 3",
   "language": "python",
   "name": "python3"
  },
  "language_info": {
   "codemirror_mode": {
    "name": "ipython",
    "version": 3
   },
   "file_extension": ".py",
   "mimetype": "text/x-python",
   "name": "python",
   "nbconvert_exporter": "python",
   "pygments_lexer": "ipython3",
   "version": "3.7.4"
  }
 },
 "nbformat": 4,
 "nbformat_minor": 2
}
